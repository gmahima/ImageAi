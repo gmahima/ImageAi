{
 "cells": [
  {
   "cell_type": "code",
   "execution_count": 8,
   "metadata": {},
   "outputs": [
    {
     "name": "stdout",
     "output_type": "stream",
     "text": [
      "/home/mahima/ImageAi\n"
     ]
    }
   ],
   "source": [
    "from imageai.Prediction import ImagePrediction\n",
    "import os\n",
    "execution_path = os.getcwd()\n",
    "\n",
    "\n",
    "print(execution_path)"
   ]
  },
  {
   "cell_type": "code",
   "execution_count": 12,
   "metadata": {},
   "outputs": [],
   "source": [
    "\n",
    "prediction = ImagePrediction()\n",
    "prediction.setModelTypeAsSqueezeNet()\n",
    "prediction.setModelPath(os.path.join(execution_path,\n",
    "                                     \"squeezenet_weights_tf_dim_ordering_tf_kernels.h5\"))\n",
    "prediction.loadModel()\n",
    "\n"
   ]
  },
  {
   "cell_type": "code",
   "execution_count": 18,
   "metadata": {
    "scrolled": true
   },
   "outputs": [
    {
     "name": "stdout",
     "output_type": "stream",
     "text": [
      "Border_collie  :  83.56913328170776\n",
      "collie  :  6.474924087524414\n",
      "Cardigan  :  2.48042494058609\n",
      "Eskimo_dog  :  2.2409027442336082\n",
      "Pembroke  :  1.9729217514395714\n",
      "Shetland_sheepdog  :  1.5396961010992527\n",
      "malamute  :  0.9907294996082783\n",
      "Siberian_husky  :  0.24481895379722118\n",
      "Bernese_mountain_dog  :  0.09173044236376882\n",
      "kelpie  :  0.08187670027837157\n",
      "West_Highland_white_terrier  :  0.05220167222432792\n",
      "tennis_ball  :  0.03098337911069393\n",
      "Boston_bull  :  0.02386746054980904\n",
      "wire-haired_fox_terrier  :  0.020951249462086707\n",
      "Australian_terrier  :  0.014058145461604\n"
     ]
    }
   ],
   "source": [
    "predictions, probabilities = prediction.predictImage(os.path.join(execution_path, \"dog.jpg\"), result_count=15 )\n",
    "for eachPrediction, eachProbability in zip(predictions, probabilities):\n",
    "    print(eachPrediction , \" : \" , eachProbability)\n",
    "\n"
   ]
  }
 ],
 "metadata": {
  "kernelspec": {
   "display_name": "Python 3",
   "language": "python",
   "name": "python3"
  },
  "language_info": {
   "codemirror_mode": {
    "name": "ipython",
    "version": 3
   },
   "file_extension": ".py",
   "mimetype": "text/x-python",
   "name": "python",
   "nbconvert_exporter": "python",
   "pygments_lexer": "ipython3",
   "version": "3.6.6"
  }
 },
 "nbformat": 4,
 "nbformat_minor": 2
}
